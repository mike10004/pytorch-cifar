{
 "cells": [
  {
   "cell_type": "markdown",
   "source": [
    "# ResNet Example"
   ],
   "metadata": {
    "collapsed": false
   },
   "id": "23efab9bb6f55e37"
  },
  {
   "cell_type": "code",
   "outputs": [],
   "source": [
    "!(pip show torch-summary || pip install torch-summary)"
   ],
   "metadata": {
    "collapsed": false
   },
   "id": "23ee9d746b26c0d"
  },
  {
   "cell_type": "code",
   "outputs": [],
   "source": [
    "from models.resnet import ResNet18\n",
    "import torchsummary\n",
    "\n",
    "def summarize_model():\n",
    "    model = ResNet18()\n",
    "    stats = torchsummary.summary(model)\n",
    "    print(stats)\n"
   ],
   "metadata": {
    "collapsed": false
   },
   "id": "662aa08adbaaf77a"
  }
 ],
 "metadata": {
  "kernelspec": {
   "display_name": "Python 3",
   "language": "python",
   "name": "python3"
  },
  "language_info": {
   "codemirror_mode": {
    "name": "ipython",
    "version": 2
   },
   "file_extension": ".py",
   "mimetype": "text/x-python",
   "name": "python",
   "nbconvert_exporter": "python",
   "pygments_lexer": "ipython2",
   "version": "2.7.6"
  }
 },
 "nbformat": 4,
 "nbformat_minor": 5
}
